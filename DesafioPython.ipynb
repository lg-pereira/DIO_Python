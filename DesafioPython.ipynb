{
  "nbformat": 4,
  "nbformat_minor": 0,
  "metadata": {
    "colab": {
      "provenance": [],
      "authorship_tag": "ABX9TyMd6UGua9kcyKiCHYNDZoI+",
      "include_colab_link": true
    },
    "kernelspec": {
      "name": "python3",
      "display_name": "Python 3"
    },
    "language_info": {
      "name": "python"
    }
  },
  "cells": [
    {
      "cell_type": "markdown",
      "metadata": {
        "id": "view-in-github",
        "colab_type": "text"
      },
      "source": [
        "<a href=\"https://colab.research.google.com/github/lg-pereira/DIO_Python/blob/main/DesafioPython.ipynb\" target=\"_parent\"><img src=\"https://colab.research.google.com/assets/colab-badge.svg\" alt=\"Open In Colab\"/></a>"
      ]
    },
    {
      "cell_type": "markdown",
      "source": [
        "**Definindo as váriáveis**"
      ],
      "metadata": {
        "id": "2b2mPyKrVGlO"
      }
    },
    {
      "cell_type": "code",
      "execution_count": 25,
      "metadata": {
        "id": "A95SAvdvM7Kj"
      },
      "outputs": [],
      "source": [
        "menu = \"\"\"\n",
        "\n",
        "[d] Depositar\n",
        "[s] Sacar\n",
        "[e] Extrato\n",
        "[q] Sair\n",
        "\n",
        "=> \"\"\"\n",
        "\n",
        "saldo = 0\n",
        "limite = 500\n",
        "extrato = \"\"\n",
        "numero_saques = 0\n",
        "LIMITE_SAQUES = 3"
      ]
    },
    {
      "cell_type": "markdown",
      "source": [
        "**Criando funcionalidades do Menu**"
      ],
      "metadata": {
        "id": "ACUL_TcxVLkd"
      }
    },
    {
      "cell_type": "code",
      "source": [
        "while True:\n",
        "\n",
        "    opcao = input(menu)\n",
        "\n",
        "    if opcao == \"d\":\n",
        "          deposito = float((input(\"Digite o valor: \")))\n",
        "          if (deposito > 0):\n",
        "              saldo += deposito\n",
        "              extrato += f\"Depósito R${deposito:1.2f}\\n\"\n",
        "          else:\n",
        "              print(\"Operação não realizada, valor inválido!\")\n",
        "    elif opcao ==\"s\":\n",
        "          saque = float((input(\"Digite o valor: \")))\n",
        "          if (saque > saldo):\n",
        "              print(\"Operação não realizada. Saldo insuficiente.\")\n",
        "          elif (saque > limite or numero_saques > LIMITE_SAQUES):\n",
        "              print(\"Operação não realizada, limite diário excedido.\")\n",
        "          else:\n",
        "              saldo -= saque\n",
        "              numero_saques +=1\n",
        "              extrato += f\"Saque R${saque:1.2f}\\n\"\n",
        "\n",
        "    elif opcao ==\"e\":\n",
        "            print(\"EXTRATO\".center(35, \"#\"))\n",
        "            print(\"Não foram realizadas movimentações.\" if not extrato else extrato)\n",
        "            print(f\"Saldo R${saldo:1.2f}\".center(35,\"#\"))\n",
        "\n",
        "    elif opcao ==\"q\":\n",
        "        print(\"Obrigado por usar nossos serviços!\")\n",
        "        break"
      ],
      "metadata": {
        "colab": {
          "base_uri": "https://localhost:8080/"
        },
        "id": "RCxrSNtwVTGm",
        "outputId": "c2c793b2-c12f-4f58-90a7-dff50f0da533"
      },
      "execution_count": 26,
      "outputs": [
        {
          "output_type": "stream",
          "name": "stdout",
          "text": [
            "\n",
            "\n",
            "[d] Depositar\n",
            "[s] Sacar\n",
            "[e] Extrato\n",
            "[q] Sair\n",
            "\n",
            "=> d\n",
            "Digite o valor: 5000\n",
            "\n",
            "\n",
            "[d] Depositar\n",
            "[s] Sacar\n",
            "[e] Extrato\n",
            "[q] Sair\n",
            "\n",
            "=> d\n",
            "Digite o valor: 2500\n",
            "\n",
            "\n",
            "[d] Depositar\n",
            "[s] Sacar\n",
            "[e] Extrato\n",
            "[q] Sair\n",
            "\n",
            "=> s\n",
            "Digite o valor: 124\n",
            "\n",
            "\n",
            "[d] Depositar\n",
            "[s] Sacar\n",
            "[e] Extrato\n",
            "[q] Sair\n",
            "\n",
            "=> s\n",
            "Digite o valor: 501\n",
            "Operação não realizada, limite diário excedido.\n",
            "\n",
            "\n",
            "[d] Depositar\n",
            "[s] Sacar\n",
            "[e] Extrato\n",
            "[q] Sair\n",
            "\n",
            "=> s\n",
            "Digite o valor: 457\n",
            "\n",
            "\n",
            "[d] Depositar\n",
            "[s] Sacar\n",
            "[e] Extrato\n",
            "[q] Sair\n",
            "\n",
            "=> s\n",
            "Digite o valor: 350\n",
            "\n",
            "\n",
            "[d] Depositar\n",
            "[s] Sacar\n",
            "[e] Extrato\n",
            "[q] Sair\n",
            "\n",
            "=> s\n",
            "Digite o valor: 12\n",
            "\n",
            "\n",
            "[d] Depositar\n",
            "[s] Sacar\n",
            "[e] Extrato\n",
            "[q] Sair\n",
            "\n",
            "=> s\n",
            "Digite o valor: 12\n",
            "Operação não realizada, limite diário excedido.\n",
            "\n",
            "\n",
            "[d] Depositar\n",
            "[s] Sacar\n",
            "[e] Extrato\n",
            "[q] Sair\n",
            "\n",
            "=> e\n",
            "##############EXTRATO##############\n",
            "Depósito R$5000.00\n",
            "Depósito R$2500.00\n",
            "Saque R$124.00\n",
            "Saque R$457.00\n",
            "Saque R$350.00\n",
            "Saque R$12.00\n",
            "\n",
            "##########Saldo R$6557.00##########\n",
            "\n",
            "\n",
            "[d] Depositar\n",
            "[s] Sacar\n",
            "[e] Extrato\n",
            "[q] Sair\n",
            "\n",
            "=> q\n",
            "Obrigado por usar nossos serviços!\n"
          ]
        }
      ]
    }
  ]
}