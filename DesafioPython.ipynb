{
  "nbformat": 4,
  "nbformat_minor": 0,
  "metadata": {
    "colab": {
      "provenance": [],
      "authorship_tag": "ABX9TyPa73isB1iueVg108dnSCJ8",
      "include_colab_link": true
    },
    "kernelspec": {
      "name": "python3",
      "display_name": "Python 3"
    },
    "language_info": {
      "name": "python"
    }
  },
  "cells": [
    {
      "cell_type": "markdown",
      "metadata": {
        "id": "view-in-github",
        "colab_type": "text"
      },
      "source": [
        "<a href=\"https://colab.research.google.com/github/lg-pereira/DIO_Python/blob/main/DesafioPython.ipynb\" target=\"_parent\"><img src=\"https://colab.research.google.com/assets/colab-badge.svg\" alt=\"Open In Colab\"/></a>"
      ]
    },
    {
      "cell_type": "markdown",
      "source": [
        "**Definindo as váriáveis**"
      ],
      "metadata": {
        "id": "2b2mPyKrVGlO"
      }
    },
    {
      "cell_type": "code",
      "execution_count": 21,
      "metadata": {
        "id": "A95SAvdvM7Kj"
      },
      "outputs": [],
      "source": [
        "menu = \"\"\"\n",
        "\n",
        "[d] Depositar\n",
        "[s] Sacar\n",
        "[e] Extrato\n",
        "[q] Sair\n",
        "\n",
        "=> \"\"\"\n",
        "\n",
        "saldo = 0\n",
        "limite = 500\n",
        "extrato = \"\"\n",
        "numero_saques = 0\n",
        "LIMITE_SAQUES = 3"
      ]
    },
    {
      "cell_type": "markdown",
      "source": [
        "**Criando funcionalidades do Menu**"
      ],
      "metadata": {
        "id": "ACUL_TcxVLkd"
      }
    },
    {
      "cell_type": "code",
      "source": [
        "while True:\n",
        "\n",
        "    opcao = input(menu)\n",
        "\n",
        "    if opcao == \"d\":\n",
        "          deposito = float((input(\"Digite o valor: \")))\n",
        "          if (deposito > 0):\n",
        "              saldo += deposito\n",
        "              extrato += f\"\\n Depósito R$ {deposito}\"\n",
        "          else:\n",
        "              print(\"Operação não realizada\")\n",
        "    elif opcao ==\"s\":\n",
        "          saque = float((input(\"Digite o valor: \")))\n",
        "          if (saque > saldo):\n",
        "              print(\"Operação não realizada. Saldo insuficiente.\")\n",
        "          elif (saque > limite or numero_saques > LIMITE_SAQUES):\n",
        "              print(\"Operação não realizada, limite diário excedido.\")\n",
        "          else:\n",
        "              saldo -= saque\n",
        "              numero_saques +=1\n",
        "              extrato += f\"\\n Saque R$ {saque}\"\n",
        "\n",
        "    elif opcao ==\"e\":\n",
        "          if (extrato != \"\"):\n",
        "            print(extrato)\n",
        "          else:\n",
        "            print(\"Não foram realizadas movimentações.\")\n",
        "    elif opcao ==\"q\":\n",
        "        print(\"Obrigado por usar nossos serviços!\")\n",
        "        break"
      ],
      "metadata": {
        "colab": {
          "base_uri": "https://localhost:8080/"
        },
        "id": "RCxrSNtwVTGm",
        "outputId": "19e4e6af-b147-416e-bfda-0d901b7a6d73"
      },
      "execution_count": 22,
      "outputs": [
        {
          "output_type": "stream",
          "name": "stdout",
          "text": [
            "\n",
            "\n",
            "[d] Depositar\n",
            "[s] Sacar\n",
            "[e] Extrato\n",
            "[q] Sair\n",
            "\n",
            "=> e\n",
            "Não foram realizadas movimentações.\n",
            "\n",
            "\n",
            "[d] Depositar\n",
            "[s] Sacar\n",
            "[e] Extrato\n",
            "[q] Sair\n",
            "\n",
            "=> s\n",
            "Digite o valor: 1\n",
            "Operação não realizada. Saldo insuficiente.\n",
            "\n",
            "\n",
            "[d] Depositar\n",
            "[s] Sacar\n",
            "[e] Extrato\n",
            "[q] Sair\n",
            "\n",
            "=> d\n",
            "Digite o valor: 5555\n",
            "\n",
            "\n",
            "[d] Depositar\n",
            "[s] Sacar\n",
            "[e] Extrato\n",
            "[q] Sair\n",
            "\n",
            "=> s\n",
            "Digite o valor: 500.01\n",
            "Operação não realizada, limite diário excedido.\n",
            "\n",
            "\n",
            "[d] Depositar\n",
            "[s] Sacar\n",
            "[e] Extrato\n",
            "[q] Sair\n",
            "\n",
            "=> 500\n",
            "\n",
            "\n",
            "[d] Depositar\n",
            "[s] Sacar\n",
            "[e] Extrato\n",
            "[q] Sair\n",
            "\n",
            "=> e\n",
            "\n",
            " Depósito R$ 5555.0\n",
            "\n",
            "\n",
            "[d] Depositar\n",
            "[s] Sacar\n",
            "[e] Extrato\n",
            "[q] Sair\n",
            "\n",
            "=> q\n",
            "Obrigado por usar nossos serviços!\n"
          ]
        }
      ]
    }
  ]
}